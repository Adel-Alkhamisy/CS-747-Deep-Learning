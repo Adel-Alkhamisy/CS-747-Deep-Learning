{
 "cells": [
  {
   "cell_type": "markdown",
   "metadata": {},
   "source": [
    "# Deep Q-Learning "
   ]
  },
  {
   "cell_type": "markdown",
   "metadata": {},
   "source": [
    "Install dependencies for AI gym to run properly (shouldn't take more than a minute). If running on google cloud or running locally, only need to run once. Colab may require installing everytime the vm shuts down."
   ]
  },
  {
   "cell_type": "code",
   "execution_count": 1,
   "metadata": {},
   "outputs": [],
   "source": [
    "# !pip3 install gym pyvirtualdisplay\n",
    "# !sudo apt-get install -y xvfb python-opengl ffmpeg"
   ]
  },
  {
   "cell_type": "code",
   "execution_count": 2,
   "metadata": {},
   "outputs": [],
   "source": [
    "# !pip3 install --upgrade setuptools --user\n",
    "# !pip3 install ez_setup \n",
    "# !pip3 install gym[atari] "
   ]
  },
  {
   "cell_type": "markdown",
   "metadata": {},
   "source": [
    "For this assignment we will implement the Deep Q-Learning algorithm with Experience Replay as described in breakthrough paper __\"Playing Atari with Deep Reinforcement Learning\"__. We will train an agent to play the famous game of __Breakout__."
   ]
  },
  {
   "cell_type": "code",
   "execution_count": 3,
   "metadata": {},
   "outputs": [],
   "source": [
    "%matplotlib inline\n",
    "\n",
    "import sys\n",
    "import gym\n",
    "import torch\n",
    "import pylab\n",
    "import random\n",
    "import numpy as np\n",
    "from collections import deque\n",
    "from datetime import datetime\n",
    "from copy import deepcopy\n",
    "import torch.nn as nn\n",
    "import torch.optim as optim\n",
    "import torch.nn.functional as F\n",
    "from torch.autograd import Variable\n",
    "from utils import find_max_lives, check_live, get_frame, get_init_state\n",
    "from model import DQN\n",
    "from config import *\n",
    "\n",
    "import matplotlib.pyplot as plt\n",
    "# %load_ext autoreload\n",
    "# %autoreload 2"
   ]
  },
  {
   "cell_type": "code",
   "execution_count": 4,
   "metadata": {},
   "outputs": [],
   "source": [
    "# !pip3 install -q gym[atari]\n",
    "# !pip install -q autorom[accept-rom-license]"
   ]
  },
  {
   "cell_type": "code",
   "execution_count": 5,
   "metadata": {},
   "outputs": [
    {
     "name": "stderr",
     "output_type": "stream",
     "text": [
      "A.L.E: Arcade Learning Environment (version 0.8.1+53f58b7)\n",
      "[Powered by Stella]\n",
      "/home/aalkhami/miniconda3/envs/myenv/lib/python3.9/site-packages/gym/core.py:317: DeprecationWarning: \u001b[33mWARN: Initializing wrapper in old step API which returns one bool instead of two. It is recommended to set `new_step_api=True` to use new step API. This will be the default behaviour in future.\u001b[0m\n",
      "  deprecation(\n",
      "/home/aalkhami/miniconda3/envs/myenv/lib/python3.9/site-packages/gym/wrappers/step_api_compatibility.py:39: DeprecationWarning: \u001b[33mWARN: Initializing environment in old step API which returns one bool instead of two. It is recommended to set `new_step_api=True` to use new step API. This will be the default behaviour in future.\u001b[0m\n",
      "  deprecation(\n",
      "/home/aalkhami/miniconda3/envs/myenv/lib/python3.9/site-packages/gym/utils/passive_env_checker.py:190: UserWarning: \u001b[33mWARN: Future gym versions will require that `Env.reset` can be passed `return_info` to return information from the environment resetting.\u001b[0m\n",
      "  logger.warn(\n",
      "/home/aalkhami/miniconda3/envs/myenv/lib/python3.9/site-packages/gym/utils/passive_env_checker.py:137: UserWarning: \u001b[33mWARN: The obs returned by the `reset()` method was expecting a numpy array, actual type: <class 'tuple'>\u001b[0m\n",
      "  logger.warn(\n",
      "/home/aalkhami/miniconda3/envs/myenv/lib/python3.9/site-packages/gym/spaces/box.py:226: UserWarning: \u001b[33mWARN: Casting input x to numpy array.\u001b[0m\n",
      "  logger.warn(\"Casting input x to numpy array.\")\n",
      "/home/aalkhami/miniconda3/envs/myenv/lib/python3.9/site-packages/gym/utils/passive_env_checker.py:167: UserWarning: \u001b[33mWARN: The obs returned by the `reset()` method is not within the observation space with exception: setting an array element with a sequence. The requested array has an inhomogeneous shape after 1 dimensions. The detected shape was (2,) + inhomogeneous part.\u001b[0m\n",
      "  logger.warn(f\"{pre} is not within the observation space with exception: {e}\")\n"
     ]
    }
   ],
   "source": [
    "env = gym.make('ALE/Breakout-v5')\n",
    "state = env.reset()\n",
    "#print(state)"
   ]
  },
  {
   "cell_type": "markdown",
   "metadata": {},
   "source": [
    "## Understanding the environment"
   ]
  },
  {
   "cell_type": "markdown",
   "metadata": {},
   "source": [
    "In the following cell, we initialize our game of __Breakout__ and you can see how the environment looks like. For further documentation of the of the environment refer to https://gym.openai.com/envs. \n",
    "\n",
    "In breakout, we will use 3 actions \"fire\", \"left\", and \"right\". \"fire\" is only used to reset the game when a life is lost, \"left\" moves the agent left and \"right\" moves the agent right."
   ]
  },
  {
   "cell_type": "code",
   "execution_count": 6,
   "metadata": {},
   "outputs": [],
   "source": [
    "# env = gym.make('BreakoutDeterministic-v4')\n",
    "# state = env.reset()"
   ]
  },
  {
   "cell_type": "code",
   "execution_count": 7,
   "metadata": {},
   "outputs": [
    {
     "name": "stderr",
     "output_type": "stream",
     "text": [
      "/home/aalkhami/miniconda3/envs/myenv/lib/python3.9/site-packages/gym/utils/passive_env_checker.py:241: DeprecationWarning: `np.bool8` is a deprecated alias for `np.bool_`.  (Deprecated NumPy 1.24)\n",
      "  if not isinstance(terminated, (bool, np.bool8)):\n"
     ]
    }
   ],
   "source": [
    "number_lives = find_max_lives(env)\n",
    "state_size = env.observation_space.shape\n",
    "action_size = 3 #fire, left, and right"
   ]
  },
  {
   "cell_type": "markdown",
   "metadata": {},
   "source": [
    "## Creating a DQN Agent"
   ]
  },
  {
   "cell_type": "markdown",
   "metadata": {},
   "source": [
    "Here we create a DQN Agent. This agent is defined in the __agent.py__. The corresponding neural network is defined in the __model.py__. Once you've created a working DQN agent, use the code in agent.py to create a double DQN agent in __agent_double.py__. Set the flag \"double_dqn\" to True to train the double DQN agent.\n",
    "\n",
    "__Evaluation Reward__ : The average reward received in the past 100 episodes/games.\n",
    "\n",
    "__Frame__ : Number of frames processed in total.\n",
    "\n",
    "__Memory Size__ : The current size of the replay memory."
   ]
  },
  {
   "cell_type": "code",
   "execution_count": 8,
   "metadata": {},
   "outputs": [],
   "source": [
    "double_dqn = False # set to True if using double DQN agent\n",
    "\n",
    "if double_dqn:\n",
    "    from agent_double import Agent\n",
    "else:\n",
    "    from agent import Agent\n",
    "\n",
    "agent = Agent(action_size)\n",
    "evaluation_reward = deque(maxlen=evaluation_reward_length)\n",
    "frame = 0\n",
    "memory_size = 0"
   ]
  },
  {
   "cell_type": "markdown",
   "metadata": {},
   "source": [
    "### Main Training Loop"
   ]
  },
  {
   "cell_type": "markdown",
   "metadata": {},
   "source": [
    "In this training loop, we do not render the screen because it slows down training signficantly. To watch the agent play the game, run the code in next section \"Visualize Agent Performance\""
   ]
  },
  {
   "cell_type": "code",
   "execution_count": 9,
   "metadata": {
    "scrolled": true,
    "tags": []
   },
   "outputs": [
    {
     "name": "stderr",
     "output_type": "stream",
     "text": [
      "/tmp/ipykernel_1008910/2281050267.py:21: DeprecationWarning: elementwise comparison failed; this will raise an error in the future.\n",
      "  if step > 1 and len(np.unique(next_state[:189] == state[:189])) < 2:\n"
     ]
    },
    {
     "name": "stdout",
     "output_type": "stream",
     "text": [
      "episode: 0   score: 2.0   memory length: 218   epsilon: 1.0    steps: 218    lr: 1e-05     evaluation reward: 2.0\n",
      "episode: 1   score: 0.0   memory length: 341   epsilon: 1.0    steps: 123    lr: 1e-05     evaluation reward: 1.0\n",
      "episode: 2   score: 2.0   memory length: 557   epsilon: 1.0    steps: 216    lr: 1e-05     evaluation reward: 1.3333333333333333\n",
      "episode: 3   score: 1.0   memory length: 711   epsilon: 1.0    steps: 154    lr: 1e-05     evaluation reward: 1.25\n",
      "episode: 4   score: 2.0   memory length: 909   epsilon: 1.0    steps: 198    lr: 1e-05     evaluation reward: 1.4\n",
      "episode: 5   score: 0.0   memory length: 1032   epsilon: 1.0    steps: 123    lr: 1e-05     evaluation reward: 1.1666666666666667\n",
      "episode: 6   score: 2.0   memory length: 1250   epsilon: 1.0    steps: 218    lr: 1e-05     evaluation reward: 1.2857142857142858\n",
      "episode: 7   score: 5.0   memory length: 1563   epsilon: 1.0    steps: 313    lr: 1e-05     evaluation reward: 1.75\n",
      "episode: 8   score: 3.0   memory length: 1808   epsilon: 1.0    steps: 245    lr: 1e-05     evaluation reward: 1.8888888888888888\n",
      "episode: 9   score: 0.0   memory length: 1931   epsilon: 1.0    steps: 123    lr: 1e-05     evaluation reward: 1.7\n",
      "episode: 10   score: 1.0   memory length: 2100   epsilon: 1.0    steps: 169    lr: 1e-05     evaluation reward: 1.6363636363636365\n",
      "episode: 11   score: 0.0   memory length: 2223   epsilon: 1.0    steps: 123    lr: 1e-05     evaluation reward: 1.5\n",
      "episode: 12   score: 0.0   memory length: 2345   epsilon: 1.0    steps: 122    lr: 1e-05     evaluation reward: 1.3846153846153846\n",
      "episode: 13   score: 4.0   memory length: 2623   epsilon: 1.0    steps: 278    lr: 1e-05     evaluation reward: 1.5714285714285714\n",
      "episode: 14   score: 0.0   memory length: 2746   epsilon: 1.0    steps: 123    lr: 1e-05     evaluation reward: 1.4666666666666666\n",
      "episode: 15   score: 4.0   memory length: 3021   epsilon: 1.0    steps: 275    lr: 1e-05     evaluation reward: 1.625\n",
      "episode: 16   score: 4.0   memory length: 3316   epsilon: 1.0    steps: 295    lr: 1e-05     evaluation reward: 1.7647058823529411\n",
      "episode: 17   score: 2.0   memory length: 3513   epsilon: 1.0    steps: 197    lr: 1e-05     evaluation reward: 1.7777777777777777\n",
      "episode: 18   score: 4.0   memory length: 3786   epsilon: 1.0    steps: 273    lr: 1e-05     evaluation reward: 1.894736842105263\n",
      "episode: 19   score: 3.0   memory length: 4032   epsilon: 1.0    steps: 246    lr: 1e-05     evaluation reward: 1.95\n",
      "episode: 20   score: 3.0   memory length: 4297   epsilon: 1.0    steps: 265    lr: 1e-05     evaluation reward: 2.0\n",
      "episode: 21   score: 2.0   memory length: 4495   epsilon: 1.0    steps: 198    lr: 1e-05     evaluation reward: 2.0\n",
      "episode: 22   score: 0.0   memory length: 4617   epsilon: 1.0    steps: 122    lr: 1e-05     evaluation reward: 1.9130434782608696\n",
      "episode: 23   score: 2.0   memory length: 4817   epsilon: 1.0    steps: 200    lr: 1e-05     evaluation reward: 1.9166666666666667\n",
      "episode: 24   score: 1.0   memory length: 4968   epsilon: 1.0    steps: 151    lr: 1e-05     evaluation reward: 1.88\n",
      "episode: 25   score: 5.0   memory length: 5291   epsilon: 1.0    steps: 323    lr: 1e-05     evaluation reward: 2.0\n",
      "episode: 26   score: 2.0   memory length: 5489   epsilon: 1.0    steps: 198    lr: 1e-05     evaluation reward: 2.0\n",
      "episode: 27   score: 0.0   memory length: 5611   epsilon: 1.0    steps: 122    lr: 1e-05     evaluation reward: 1.9285714285714286\n",
      "episode: 28   score: 3.0   memory length: 5876   epsilon: 1.0    steps: 265    lr: 1e-05     evaluation reward: 1.9655172413793103\n",
      "episode: 29   score: 1.0   memory length: 6046   epsilon: 1.0    steps: 170    lr: 1e-05     evaluation reward: 1.9333333333333333\n",
      "episode: 30   score: 2.0   memory length: 6264   epsilon: 1.0    steps: 218    lr: 1e-05     evaluation reward: 1.935483870967742\n",
      "episode: 31   score: 1.0   memory length: 6416   epsilon: 1.0    steps: 152    lr: 1e-05     evaluation reward: 1.90625\n",
      "episode: 32   score: 2.0   memory length: 6614   epsilon: 1.0    steps: 198    lr: 1e-05     evaluation reward: 1.9090909090909092\n",
      "episode: 33   score: 0.0   memory length: 6736   epsilon: 1.0    steps: 122    lr: 1e-05     evaluation reward: 1.8529411764705883\n",
      "episode: 34   score: 0.0   memory length: 6859   epsilon: 1.0    steps: 123    lr: 1e-05     evaluation reward: 1.8\n",
      "episode: 35   score: 0.0   memory length: 6981   epsilon: 1.0    steps: 122    lr: 1e-05     evaluation reward: 1.75\n",
      "episode: 36   score: 1.0   memory length: 7150   epsilon: 1.0    steps: 169    lr: 1e-05     evaluation reward: 1.7297297297297298\n",
      "episode: 37   score: 0.0   memory length: 7273   epsilon: 1.0    steps: 123    lr: 1e-05     evaluation reward: 1.6842105263157894\n",
      "episode: 38   score: 4.0   memory length: 7587   epsilon: 1.0    steps: 314    lr: 1e-05     evaluation reward: 1.7435897435897436\n",
      "episode: 39   score: 2.0   memory length: 7804   epsilon: 1.0    steps: 217    lr: 1e-05     evaluation reward: 1.75\n",
      "episode: 40   score: 1.0   memory length: 7955   epsilon: 1.0    steps: 151    lr: 1e-05     evaluation reward: 1.7317073170731707\n",
      "episode: 41   score: 2.0   memory length: 8153   epsilon: 1.0    steps: 198    lr: 1e-05     evaluation reward: 1.7380952380952381\n",
      "episode: 42   score: 1.0   memory length: 8323   epsilon: 1.0    steps: 170    lr: 1e-05     evaluation reward: 1.7209302325581395\n",
      "episode: 43   score: 3.0   memory length: 8569   epsilon: 1.0    steps: 246    lr: 1e-05     evaluation reward: 1.75\n",
      "episode: 44   score: 0.0   memory length: 8692   epsilon: 1.0    steps: 123    lr: 1e-05     evaluation reward: 1.711111111111111\n",
      "episode: 45   score: 1.0   memory length: 8864   epsilon: 1.0    steps: 172    lr: 1e-05     evaluation reward: 1.6956521739130435\n",
      "episode: 46   score: 0.0   memory length: 8987   epsilon: 1.0    steps: 123    lr: 1e-05     evaluation reward: 1.6595744680851063\n",
      "episode: 47   score: 0.0   memory length: 9110   epsilon: 1.0    steps: 123    lr: 1e-05     evaluation reward: 1.625\n",
      "episode: 48   score: 0.0   memory length: 9232   epsilon: 1.0    steps: 122    lr: 1e-05     evaluation reward: 1.5918367346938775\n",
      "episode: 49   score: 1.0   memory length: 9400   epsilon: 1.0    steps: 168    lr: 1e-05     evaluation reward: 1.58\n",
      "episode: 50   score: 2.0   memory length: 9600   epsilon: 1.0    steps: 200    lr: 1e-05     evaluation reward: 1.588235294117647\n",
      "episode: 51   score: 2.0   memory length: 9820   epsilon: 1.0    steps: 220    lr: 1e-05     evaluation reward: 1.5961538461538463\n",
      "episode: 52   score: 4.0   memory length: 10116   epsilon: 1.0    steps: 296    lr: 1e-05     evaluation reward: 1.6415094339622642\n",
      "episode: 53   score: 2.0   memory length: 10334   epsilon: 1.0    steps: 218    lr: 1e-05     evaluation reward: 1.6481481481481481\n",
      "episode: 54   score: 3.0   memory length: 10579   epsilon: 1.0    steps: 245    lr: 1e-05     evaluation reward: 1.6727272727272726\n",
      "episode: 55   score: 2.0   memory length: 10776   epsilon: 1.0    steps: 197    lr: 1e-05     evaluation reward: 1.6785714285714286\n",
      "episode: 56   score: 1.0   memory length: 10927   epsilon: 1.0    steps: 151    lr: 1e-05     evaluation reward: 1.6666666666666667\n",
      "episode: 57   score: 0.0   memory length: 11049   epsilon: 1.0    steps: 122    lr: 1e-05     evaluation reward: 1.6379310344827587\n",
      "episode: 58   score: 1.0   memory length: 11217   epsilon: 1.0    steps: 168    lr: 1e-05     evaluation reward: 1.6271186440677967\n",
      "episode: 59   score: 1.0   memory length: 11387   epsilon: 1.0    steps: 170    lr: 1e-05     evaluation reward: 1.6166666666666667\n",
      "episode: 60   score: 0.0   memory length: 11510   epsilon: 1.0    steps: 123    lr: 1e-05     evaluation reward: 1.5901639344262295\n",
      "episode: 61   score: 0.0   memory length: 11633   epsilon: 1.0    steps: 123    lr: 1e-05     evaluation reward: 1.564516129032258\n",
      "episode: 62   score: 0.0   memory length: 11755   epsilon: 1.0    steps: 122    lr: 1e-05     evaluation reward: 1.5396825396825398\n",
      "episode: 63   score: 2.0   memory length: 11953   epsilon: 1.0    steps: 198    lr: 1e-05     evaluation reward: 1.546875\n",
      "episode: 64   score: 3.0   memory length: 12180   epsilon: 1.0    steps: 227    lr: 1e-05     evaluation reward: 1.5692307692307692\n",
      "episode: 65   score: 2.0   memory length: 12381   epsilon: 1.0    steps: 201    lr: 1e-05     evaluation reward: 1.5757575757575757\n",
      "episode: 66   score: 2.0   memory length: 12578   epsilon: 1.0    steps: 197    lr: 1e-05     evaluation reward: 1.5820895522388059\n",
      "episode: 67   score: 2.0   memory length: 12776   epsilon: 1.0    steps: 198    lr: 1e-05     evaluation reward: 1.588235294117647\n",
      "episode: 68   score: 1.0   memory length: 12927   epsilon: 1.0    steps: 151    lr: 1e-05     evaluation reward: 1.5797101449275361\n",
      "episode: 69   score: 1.0   memory length: 13096   epsilon: 1.0    steps: 169    lr: 1e-05     evaluation reward: 1.5714285714285714\n",
      "episode: 70   score: 1.0   memory length: 13265   epsilon: 1.0    steps: 169    lr: 1e-05     evaluation reward: 1.5633802816901408\n",
      "episode: 71   score: 1.0   memory length: 13434   epsilon: 1.0    steps: 169    lr: 1e-05     evaluation reward: 1.5555555555555556\n",
      "episode: 72   score: 0.0   memory length: 13556   epsilon: 1.0    steps: 122    lr: 1e-05     evaluation reward: 1.5342465753424657\n",
      "episode: 73   score: 2.0   memory length: 13754   epsilon: 1.0    steps: 198    lr: 1e-05     evaluation reward: 1.5405405405405406\n",
      "episode: 74   score: 1.0   memory length: 13926   epsilon: 1.0    steps: 172    lr: 1e-05     evaluation reward: 1.5333333333333334\n",
      "episode: 75   score: 0.0   memory length: 14049   epsilon: 1.0    steps: 123    lr: 1e-05     evaluation reward: 1.513157894736842\n",
      "episode: 76   score: 0.0   memory length: 14173   epsilon: 1.0    steps: 124    lr: 1e-05     evaluation reward: 1.4935064935064934\n",
      "episode: 77   score: 2.0   memory length: 14370   epsilon: 1.0    steps: 197    lr: 1e-05     evaluation reward: 1.5\n",
      "episode: 78   score: 2.0   memory length: 14568   epsilon: 1.0    steps: 198    lr: 1e-05     evaluation reward: 1.5063291139240507\n",
      "episode: 79   score: 2.0   memory length: 14766   epsilon: 1.0    steps: 198    lr: 1e-05     evaluation reward: 1.5125\n",
      "episode: 80   score: 1.0   memory length: 14934   epsilon: 1.0    steps: 168    lr: 1e-05     evaluation reward: 1.5061728395061729\n",
      "episode: 81   score: 0.0   memory length: 15057   epsilon: 1.0    steps: 123    lr: 1e-05     evaluation reward: 1.4878048780487805\n",
      "episode: 82   score: 2.0   memory length: 15275   epsilon: 1.0    steps: 218    lr: 1e-05     evaluation reward: 1.4939759036144578\n",
      "episode: 83   score: 3.0   memory length: 15524   epsilon: 1.0    steps: 249    lr: 1e-05     evaluation reward: 1.5119047619047619\n",
      "episode: 84   score: 1.0   memory length: 15693   epsilon: 1.0    steps: 169    lr: 1e-05     evaluation reward: 1.5058823529411764\n",
      "episode: 85   score: 2.0   memory length: 15891   epsilon: 1.0    steps: 198    lr: 1e-05     evaluation reward: 1.5116279069767442\n",
      "episode: 86   score: 0.0   memory length: 16014   epsilon: 1.0    steps: 123    lr: 1e-05     evaluation reward: 1.4942528735632183\n",
      "episode: 87   score: 1.0   memory length: 16183   epsilon: 1.0    steps: 169    lr: 1e-05     evaluation reward: 1.4886363636363635\n",
      "episode: 88   score: 0.0   memory length: 16306   epsilon: 1.0    steps: 123    lr: 1e-05     evaluation reward: 1.4719101123595506\n",
      "episode: 89   score: 0.0   memory length: 16428   epsilon: 1.0    steps: 122    lr: 1e-05     evaluation reward: 1.4555555555555555\n",
      "episode: 90   score: 1.0   memory length: 16597   epsilon: 1.0    steps: 169    lr: 1e-05     evaluation reward: 1.4505494505494505\n",
      "episode: 91   score: 4.0   memory length: 16913   epsilon: 1.0    steps: 316    lr: 1e-05     evaluation reward: 1.4782608695652173\n",
      "episode: 92   score: 2.0   memory length: 17111   epsilon: 1.0    steps: 198    lr: 1e-05     evaluation reward: 1.4838709677419355\n",
      "episode: 93   score: 2.0   memory length: 17309   epsilon: 1.0    steps: 198    lr: 1e-05     evaluation reward: 1.4893617021276595\n",
      "episode: 94   score: 3.0   memory length: 17554   epsilon: 1.0    steps: 245    lr: 1e-05     evaluation reward: 1.5052631578947369\n",
      "episode: 95   score: 0.0   memory length: 17677   epsilon: 1.0    steps: 123    lr: 1e-05     evaluation reward: 1.4895833333333333\n",
      "episode: 96   score: 3.0   memory length: 17903   epsilon: 1.0    steps: 226    lr: 1e-05     evaluation reward: 1.5051546391752577\n",
      "episode: 97   score: 2.0   memory length: 18101   epsilon: 1.0    steps: 198    lr: 1e-05     evaluation reward: 1.510204081632653\n",
      "episode: 98   score: 0.0   memory length: 18224   epsilon: 1.0    steps: 123    lr: 1e-05     evaluation reward: 1.494949494949495\n",
      "episode: 99   score: 0.0   memory length: 18347   epsilon: 1.0    steps: 123    lr: 1e-05     evaluation reward: 1.48\n",
      "episode: 100   score: 2.0   memory length: 18544   epsilon: 1.0    steps: 197    lr: 1e-05     evaluation reward: 1.48\n",
      "episode: 101   score: 1.0   memory length: 18694   epsilon: 1.0    steps: 150    lr: 1e-05     evaluation reward: 1.49\n",
      "episode: 102   score: 4.0   memory length: 18971   epsilon: 1.0    steps: 277    lr: 1e-05     evaluation reward: 1.51\n",
      "episode: 103   score: 3.0   memory length: 19202   epsilon: 1.0    steps: 231    lr: 1e-05     evaluation reward: 1.53\n",
      "episode: 104   score: 3.0   memory length: 19433   epsilon: 1.0    steps: 231    lr: 1e-05     evaluation reward: 1.54\n",
      "episode: 105   score: 0.0   memory length: 19555   epsilon: 1.0    steps: 122    lr: 1e-05     evaluation reward: 1.54\n",
      "episode: 106   score: 2.0   memory length: 19753   epsilon: 1.0    steps: 198    lr: 1e-05     evaluation reward: 1.54\n",
      "episode: 107   score: 1.0   memory length: 19924   epsilon: 1.0    steps: 171    lr: 1e-05     evaluation reward: 1.5\n",
      "episode: 108   score: 0.0   memory length: 20046   epsilon: 1.0    steps: 122    lr: 1e-05     evaluation reward: 1.47\n",
      "episode: 109   score: 1.0   memory length: 20217   epsilon: 1.0    steps: 171    lr: 1e-05     evaluation reward: 1.48\n",
      "episode: 110   score: 4.0   memory length: 20530   epsilon: 1.0    steps: 313    lr: 1e-05     evaluation reward: 1.51\n",
      "episode: 111   score: 2.0   memory length: 20747   epsilon: 1.0    steps: 217    lr: 1e-05     evaluation reward: 1.53\n",
      "episode: 112   score: 1.0   memory length: 20915   epsilon: 1.0    steps: 168    lr: 1e-05     evaluation reward: 1.54\n",
      "episode: 113   score: 2.0   memory length: 21113   epsilon: 1.0    steps: 198    lr: 1e-05     evaluation reward: 1.52\n",
      "episode: 114   score: 1.0   memory length: 21264   epsilon: 1.0    steps: 151    lr: 1e-05     evaluation reward: 1.53\n",
      "episode: 115   score: 1.0   memory length: 21415   epsilon: 1.0    steps: 151    lr: 1e-05     evaluation reward: 1.5\n",
      "episode: 116   score: 1.0   memory length: 21585   epsilon: 1.0    steps: 170    lr: 1e-05     evaluation reward: 1.47\n",
      "episode: 117   score: 3.0   memory length: 21833   epsilon: 1.0    steps: 248    lr: 1e-05     evaluation reward: 1.48\n",
      "episode: 118   score: 0.0   memory length: 21956   epsilon: 1.0    steps: 123    lr: 1e-05     evaluation reward: 1.44\n",
      "episode: 119   score: 3.0   memory length: 22203   epsilon: 1.0    steps: 247    lr: 1e-05     evaluation reward: 1.44\n",
      "episode: 120   score: 3.0   memory length: 22448   epsilon: 1.0    steps: 245    lr: 1e-05     evaluation reward: 1.44\n",
      "episode: 121   score: 2.0   memory length: 22646   epsilon: 1.0    steps: 198    lr: 1e-05     evaluation reward: 1.44\n",
      "episode: 122   score: 1.0   memory length: 22815   epsilon: 1.0    steps: 169    lr: 1e-05     evaluation reward: 1.45\n",
      "episode: 123   score: 3.0   memory length: 23063   epsilon: 1.0    steps: 248    lr: 1e-05     evaluation reward: 1.46\n",
      "episode: 124   score: 2.0   memory length: 23261   epsilon: 1.0    steps: 198    lr: 1e-05     evaluation reward: 1.47\n",
      "episode: 125   score: 0.0   memory length: 23384   epsilon: 1.0    steps: 123    lr: 1e-05     evaluation reward: 1.42\n",
      "episode: 126   score: 3.0   memory length: 23628   epsilon: 1.0    steps: 244    lr: 1e-05     evaluation reward: 1.43\n",
      "episode: 127   score: 1.0   memory length: 23779   epsilon: 1.0    steps: 151    lr: 1e-05     evaluation reward: 1.44\n",
      "episode: 128   score: 4.0   memory length: 24056   epsilon: 1.0    steps: 277    lr: 1e-05     evaluation reward: 1.45\n",
      "episode: 129   score: 1.0   memory length: 24224   epsilon: 1.0    steps: 168    lr: 1e-05     evaluation reward: 1.45\n",
      "episode: 130   score: 0.0   memory length: 24347   epsilon: 1.0    steps: 123    lr: 1e-05     evaluation reward: 1.43\n",
      "episode: 131   score: 3.0   memory length: 24592   epsilon: 1.0    steps: 245    lr: 1e-05     evaluation reward: 1.45\n",
      "episode: 132   score: 2.0   memory length: 24790   epsilon: 1.0    steps: 198    lr: 1e-05     evaluation reward: 1.45\n",
      "episode: 133   score: 2.0   memory length: 24988   epsilon: 1.0    steps: 198    lr: 1e-05     evaluation reward: 1.47\n",
      "episode: 134   score: 2.0   memory length: 25186   epsilon: 1.0    steps: 198    lr: 1e-05     evaluation reward: 1.49\n",
      "episode: 135   score: 5.0   memory length: 25531   epsilon: 1.0    steps: 345    lr: 1e-05     evaluation reward: 1.54\n",
      "episode: 136   score: 1.0   memory length: 25682   epsilon: 1.0    steps: 151    lr: 1e-05     evaluation reward: 1.54\n",
      "episode: 137   score: 3.0   memory length: 25929   epsilon: 1.0    steps: 247    lr: 1e-05     evaluation reward: 1.57\n",
      "episode: 138   score: 3.0   memory length: 26177   epsilon: 1.0    steps: 248    lr: 1e-05     evaluation reward: 1.56\n",
      "episode: 139   score: 1.0   memory length: 26328   epsilon: 1.0    steps: 151    lr: 1e-05     evaluation reward: 1.55\n",
      "episode: 140   score: 1.0   memory length: 26479   epsilon: 1.0    steps: 151    lr: 1e-05     evaluation reward: 1.55\n",
      "episode: 141   score: 2.0   memory length: 26676   epsilon: 1.0    steps: 197    lr: 1e-05     evaluation reward: 1.55\n",
      "episode: 142   score: 6.0   memory length: 27059   epsilon: 1.0    steps: 383    lr: 1e-05     evaluation reward: 1.6\n",
      "episode: 143   score: 0.0   memory length: 27181   epsilon: 1.0    steps: 122    lr: 1e-05     evaluation reward: 1.57\n",
      "episode: 144   score: 2.0   memory length: 27396   epsilon: 1.0    steps: 215    lr: 1e-05     evaluation reward: 1.59\n"
     ]
    },
    {
     "ename": "KeyboardInterrupt",
     "evalue": "",
     "output_type": "error",
     "traceback": [
      "\u001b[0;31m---------------------------------------------------------------------------\u001b[0m",
      "\u001b[0;31mKeyboardInterrupt\u001b[0m                         Traceback (most recent call last)",
      "Cell \u001b[0;32mIn[9], line 24\u001b[0m\n\u001b[1;32m     22\u001b[0m     action \u001b[38;5;241m=\u001b[39m \u001b[38;5;241m0\u001b[39m\n\u001b[1;32m     23\u001b[0m \u001b[38;5;28;01melse\u001b[39;00m:\n\u001b[0;32m---> 24\u001b[0m     action \u001b[38;5;241m=\u001b[39m \u001b[43magent\u001b[49m\u001b[38;5;241;43m.\u001b[39;49m\u001b[43mget_action\u001b[49m\u001b[43m(\u001b[49m\u001b[43mnp\u001b[49m\u001b[38;5;241;43m.\u001b[39;49m\u001b[43mfloat32\u001b[49m\u001b[43m(\u001b[49m\u001b[43mhistory\u001b[49m\u001b[43m[\u001b[49m\u001b[43m:\u001b[49m\u001b[38;5;241;43m4\u001b[39;49m\u001b[43m,\u001b[49m\u001b[43m \u001b[49m\u001b[43m:\u001b[49m\u001b[43m,\u001b[49m\u001b[43m \u001b[49m\u001b[43m:\u001b[49m\u001b[43m]\u001b[49m\u001b[43m)\u001b[49m\u001b[43m \u001b[49m\u001b[38;5;241;43m/\u001b[39;49m\u001b[43m \u001b[49m\u001b[38;5;241;43m255.\u001b[39;49m\u001b[43m)\u001b[49m\n\u001b[1;32m     25\u001b[0m state \u001b[38;5;241m=\u001b[39m next_state\n\u001b[1;32m     26\u001b[0m next_state, reward, done, info \u001b[38;5;241m=\u001b[39m env\u001b[38;5;241m.\u001b[39mstep(action \u001b[38;5;241m+\u001b[39m \u001b[38;5;241m1\u001b[39m)\n",
      "File \u001b[0;32m/scratch/aalkhami/cs747/hw5/CS747_Assigment5/agent.py:46\u001b[0m, in \u001b[0;36mAgent.get_action\u001b[0;34m(self, state)\u001b[0m\n\u001b[1;32m     44\u001b[0m \u001b[38;5;28;01mdef\u001b[39;00m \u001b[38;5;21mget_action\u001b[39m(\u001b[38;5;28mself\u001b[39m, state):\n\u001b[1;32m     45\u001b[0m     \u001b[38;5;28;01mif\u001b[39;00m np\u001b[38;5;241m.\u001b[39mrandom\u001b[38;5;241m.\u001b[39mrand() \u001b[38;5;241m<\u001b[39m\u001b[38;5;241m=\u001b[39m \u001b[38;5;28mself\u001b[39m\u001b[38;5;241m.\u001b[39mepsilon:\n\u001b[0;32m---> 46\u001b[0m         \u001b[38;5;28;01mreturn\u001b[39;00m \u001b[43mtorch\u001b[49m\u001b[38;5;241;43m.\u001b[39;49m\u001b[43mtensor\u001b[49m\u001b[43m(\u001b[49m\u001b[43m[\u001b[49m\u001b[43m[\u001b[49m\u001b[43mrandom\u001b[49m\u001b[38;5;241;43m.\u001b[39;49m\u001b[43mrandrange\u001b[49m\u001b[43m(\u001b[49m\u001b[38;5;28;43mself\u001b[39;49m\u001b[38;5;241;43m.\u001b[39;49m\u001b[43maction_size\u001b[49m\u001b[43m)\u001b[49m\u001b[43m]\u001b[49m\u001b[43m]\u001b[49m\u001b[43m,\u001b[49m\u001b[43m \u001b[49m\u001b[43mdevice\u001b[49m\u001b[38;5;241;43m=\u001b[39;49m\u001b[43mdevice\u001b[49m\u001b[43m,\u001b[49m\u001b[43m \u001b[49m\u001b[43mdtype\u001b[49m\u001b[38;5;241;43m=\u001b[39;49m\u001b[43mtorch\u001b[49m\u001b[38;5;241;43m.\u001b[39;49m\u001b[43mlong\u001b[49m\u001b[43m)\u001b[49m\n\u001b[1;32m     48\u001b[0m     \u001b[38;5;28;01melse\u001b[39;00m:\n\u001b[1;32m     49\u001b[0m         \u001b[38;5;28;01mwith\u001b[39;00m torch\u001b[38;5;241m.\u001b[39mno_grad():\n",
      "\u001b[0;31mKeyboardInterrupt\u001b[0m: "
     ]
    },
    {
     "data": {
      "image/png": "[encoded data removed]",
      "text/plain": [
       "<Figure size 640x480 with 1 Axes>"
      ]
     },
     "metadata": {},
     "output_type": "display_data"
    }
   ],
   "source": [
    "rewards, episodes = [], []\n",
    "best_eval_reward = 0\n",
    "for e in range(EPISODES):\n",
    "    done = False\n",
    "    score = 0\n",
    "\n",
    "    history = np.zeros([5, 84, 84], dtype=np.uint8)\n",
    "    step = 0\n",
    "    d = False\n",
    "    state = env.reset()\n",
    "    next_state = state\n",
    "    life = number_lives\n",
    "\n",
    "    get_init_state(history, state)\n",
    "\n",
    "    while not done:\n",
    "        step += 1\n",
    "        frame += 1\n",
    "\n",
    "        # Perform a fire action if ball is no longer on screen to continue onto next life\n",
    "        if step > 1 and len(np.unique(next_state[:189] == state[:189])) < 2:\n",
    "            action = 0\n",
    "        else:\n",
    "            action = agent.get_action(np.float32(history[:4, :, :]) / 255.)\n",
    "        state = next_state\n",
    "        next_state, reward, done, info = env.step(action + 1)\n",
    "        \n",
    "        frame_next_state = get_frame(next_state)\n",
    "        history[4, :, :] = frame_next_state\n",
    "        terminal_state = check_live(life, info['lives'])\n",
    "\n",
    "        life = info['lives']\n",
    "        r = np.clip(reward, -1, 1) \n",
    "        r = reward\n",
    "\n",
    "        # Store the transition in memory \n",
    "        agent.memory.push(deepcopy(frame_next_state), action, r, terminal_state)\n",
    "        # Start training after random sample generation\n",
    "        if(frame >= train_frame):\n",
    "            agent.train_policy_net(frame)\n",
    "            # Update the target network only for Double DQN only\n",
    "            if double_dqn and (frame % update_target_network_frequency)== 0:\n",
    "                agent.update_target_net()\n",
    "        score += reward\n",
    "        history[:4, :, :] = history[1:, :, :]\n",
    "            \n",
    "        if done:\n",
    "            evaluation_reward.append(score)\n",
    "            rewards.append(np.mean(evaluation_reward))\n",
    "            episodes.append(e)\n",
    "            pylab.plot(episodes, rewards, 'b')\n",
    "            pylab.xlabel('Episodes')\n",
    "            pylab.ylabel('Rewards') \n",
    "            pylab.title('Episodes vs Reward')\n",
    "            pylab.savefig(\"./save_graph/breakout_dqn.png\") # save graph for training visualization\n",
    "            \n",
    "            # every episode, plot the play time\n",
    "            print(\"episode:\", e, \"  score:\", score, \"  memory length:\",\n",
    "                  len(agent.memory), \"  epsilon:\", agent.epsilon, \"   steps:\", step,\n",
    "                  \"   lr:\", agent.optimizer.param_groups[0]['lr'], \"    evaluation reward:\", np.mean(evaluation_reward))\n",
    "\n",
    "            # if the mean of scores of last 100 episode is bigger than 8 save model\n",
    "            ### Change this save condition to whatever you prefer ###\n",
    "            if np.mean(evaluation_reward) >= 8 and np.mean(evaluation_reward) > best_eval_reward:\n",
    "                torch.save(agent.policy_net, \"./save_model/breakout_dqn_v2.pth\")\n",
    "                best_eval_reward = np.mean(evaluation_reward)\n"
   ]
  },
  {
   "cell_type": "markdown",
   "metadata": {},
   "source": [
    "# Visualize Agent Performance"
   ]
  },
  {
   "cell_type": "markdown",
   "metadata": {},
   "source": [
    "BE AWARE THIS CODE BELOW MAY CRASH THE KERNEL IF YOU RUN THE SAME CELL TWICE.\n",
    "\n",
    "Please save your model before running this portion of the code."
   ]
  },
  {
   "cell_type": "code",
   "execution_count": null,
   "metadata": {},
   "outputs": [],
   "source": [
    "torch.save(agent.policy_net, \"./save_model/breakout_dqn_latest_v2.pth\")"
   ]
  },
  {
   "cell_type": "code",
   "execution_count": null,
   "metadata": {},
   "outputs": [],
   "source": [
    "from gym.wrappers import Monitor\n",
    "#from gym.wrappers.monitor import Monitor\n",
    "import glob\n",
    "import io\n",
    "import base64\n",
    "\n",
    "from IPython.display import HTML\n",
    "from IPython import display as ipythondisplay\n",
    "\n",
    "from pyvirtualdisplay import Display\n",
    "\n",
    "# Displaying the game live\n",
    "def show_state(env, step=0, info=\"\"):\n",
    "    plt.figure(3)\n",
    "    plt.clf()\n",
    "    plt.imshow(env.render(mode='rgb_array'))\n",
    "    plt.title(\"%s | Step: %d %s\" % (\"Agent Playing\",step, info))\n",
    "    plt.axis('off')\n",
    "\n",
    "    ipythondisplay.clear_output(wait=True)\n",
    "    ipythondisplay.display(plt.gcf())\n",
    "    \n",
    "# Recording the game and replaying the game afterwards\n",
    "def show_video():\n",
    "    mp4list = glob.glob('video/*.mp4')\n",
    "    if len(mp4list) > 0:\n",
    "        mp4 = mp4list[0]\n",
    "        video = io.open(mp4, 'r+b').read()\n",
    "        encoded = base64.b64encode(video)\n",
    "        ipythondisplay.display(HTML(data='''<video alt=\"test\" autoplay \n",
    "                loop controls style=\"height: 400px;\">\n",
    "                <source src=\"data:video/mp4;base64,{0}\" type=\"video/mp4\" />\n",
    "             </video>'''.format(encoded.decode('ascii'))))\n",
    "    else: \n",
    "        print(\"Could not find video\")\n",
    "    \n",
    "\n",
    "def wrap_env(env):\n",
    "    env = Monitor(env, './video', force=True)\n",
    "    return env"
   ]
  },
  {
   "cell_type": "code",
   "execution_count": null,
   "metadata": {},
   "outputs": [],
   "source": [
    "display = Display(visible=0, size=(300, 200))\n",
    "display.start()\n",
    "\n",
    "# Load agent\n",
    "# agent.load_policy_net(\"./save_model/breakout_dqn.pth\")\n",
    "agent.epsilon = 0.0 # Set agent to only exploit the best action\n",
    "\n",
    "env = gym.make('BreakoutDeterministic-v5')\n",
    "env = wrap_env(env)\n",
    "\n",
    "done = False\n",
    "score = 0\n",
    "step = 0\n",
    "state = env.reset()\n",
    "next_state = state\n",
    "life = number_lives\n",
    "history = np.zeros([5, 84, 84], dtype=np.uint8)\n",
    "get_init_state(history, state)\n",
    "\n",
    "while not done:\n",
    "    \n",
    "    # Render breakout\n",
    "    env.render()\n",
    "#     show_state(env,step) # uncommenting this provides another way to visualize the game\n",
    "\n",
    "    step += 1\n",
    "    frame += 1\n",
    "\n",
    "    # Perform a fire action if ball is no longer on screen\n",
    "    if step > 1 and len(np.unique(next_state[:189] == state[:189])) < 2:\n",
    "        action = 0\n",
    "    else:\n",
    "        action = agent.get_action(np.float32(history[:4, :, :]) / 255.)\n",
    "    state = next_state\n",
    "    \n",
    "    next_state, reward, done, info = env.step(action + 1)\n",
    "        \n",
    "    frame_next_state = get_frame(next_state)\n",
    "    history[4, :, :] = frame_next_state\n",
    "    terminal_state = check_live(life, info['lives'])\n",
    "        \n",
    "    life = info['lives']\n",
    "    r = np.clip(reward, -1, 1) \n",
    "    r = reward\n",
    "\n",
    "    # Store the transition in memory \n",
    "    agent.memory.push(deepcopy(frame_next_state), action, r, terminal_state)\n",
    "    # Start training after random sample generation\n",
    "    score += reward\n",
    "    \n",
    "    history[:4, :, :] = history[1:, :, :]\n",
    "env.close()\n",
    "show_video()\n",
    "display.stop()"
   ]
  },
  {
   "cell_type": "code",
   "execution_count": null,
   "metadata": {},
   "outputs": [],
   "source": []
  }
 ],
 "metadata": {
  "kernelspec": {
   "display_name": "myenv",
   "language": "python",
   "name": "myenv"
  },
  "language_info": {
   "codemirror_mode": {
    "name": "ipython",
    "version": 3
   },
   "file_extension": ".py",
   "mimetype": "text/x-python",
   "name": "python",
   "nbconvert_exporter": "python",
   "pygments_lexer": "ipython3",
   "version": "3.9.16"
  }
 },
 "nbformat": 4,
 "nbformat_minor": 4
}
